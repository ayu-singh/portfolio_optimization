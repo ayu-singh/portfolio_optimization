{
 "cells": [
  {
   "cell_type": "code",
   "execution_count": 2,
   "id": "28a5d566-5198-45ff-bb52-d99396cad51a",
   "metadata": {},
   "outputs": [],
   "source": [
    "import json\n",
    "import pandas as pd"
   ]
  },
  {
   "cell_type": "code",
   "execution_count": 4,
   "id": "eaaf2310-1a0a-49ad-ad5e-6fe9e0a1be33",
   "metadata": {},
   "outputs": [],
   "source": [
    "df = pd.read_csv(\"stocks_data.csv\")\n",
    "with open(\"stocks_info.json\", \"r\") as fp:\n",
    "    info = json.load(fp)"
   ]
  },
  {
   "cell_type": "code",
   "execution_count": 6,
   "id": "6a28c612-35a4-4394-89a5-cb5ae2c8f12f",
   "metadata": {},
   "outputs": [
    {
     "data": {
      "text/html": [
       "<div>\n",
       "<style scoped>\n",
       "    .dataframe tbody tr th:only-of-type {\n",
       "        vertical-align: middle;\n",
       "    }\n",
       "\n",
       "    .dataframe tbody tr th {\n",
       "        vertical-align: top;\n",
       "    }\n",
       "\n",
       "    .dataframe thead th {\n",
       "        text-align: right;\n",
       "    }\n",
       "</style>\n",
       "<table border=\"1\" class=\"dataframe\">\n",
       "  <thead>\n",
       "    <tr style=\"text-align: right;\">\n",
       "      <th></th>\n",
       "      <th>stock</th>\n",
       "      <th>Close</th>\n",
       "      <th>Adj Close</th>\n",
       "    </tr>\n",
       "  </thead>\n",
       "  <tbody>\n",
       "    <tr>\n",
       "      <th>0</th>\n",
       "      <td>MSFT</td>\n",
       "      <td>30.950001</td>\n",
       "      <td>23.347319</td>\n",
       "    </tr>\n",
       "    <tr>\n",
       "      <th>1</th>\n",
       "      <td>MSFT</td>\n",
       "      <td>30.959999</td>\n",
       "      <td>23.354864</td>\n",
       "    </tr>\n",
       "    <tr>\n",
       "      <th>2</th>\n",
       "      <td>MSFT</td>\n",
       "      <td>30.770000</td>\n",
       "      <td>23.211533</td>\n",
       "    </tr>\n",
       "    <tr>\n",
       "      <th>3</th>\n",
       "      <td>MSFT</td>\n",
       "      <td>30.450001</td>\n",
       "      <td>22.970140</td>\n",
       "    </tr>\n",
       "    <tr>\n",
       "      <th>4</th>\n",
       "      <td>MSFT</td>\n",
       "      <td>30.660000</td>\n",
       "      <td>23.128557</td>\n",
       "    </tr>\n",
       "    <tr>\n",
       "      <th>...</th>\n",
       "      <td>...</td>\n",
       "      <td>...</td>\n",
       "      <td>...</td>\n",
       "    </tr>\n",
       "    <tr>\n",
       "      <th>111233</th>\n",
       "      <td>COST</td>\n",
       "      <td>901.440002</td>\n",
       "      <td>901.440002</td>\n",
       "    </tr>\n",
       "    <tr>\n",
       "      <th>111234</th>\n",
       "      <td>COST</td>\n",
       "      <td>885.619995</td>\n",
       "      <td>885.619995</td>\n",
       "    </tr>\n",
       "    <tr>\n",
       "      <th>111235</th>\n",
       "      <td>COST</td>\n",
       "      <td>886.520020</td>\n",
       "      <td>886.520020</td>\n",
       "    </tr>\n",
       "    <tr>\n",
       "      <th>111236</th>\n",
       "      <td>COST</td>\n",
       "      <td>877.380005</td>\n",
       "      <td>877.380005</td>\n",
       "    </tr>\n",
       "    <tr>\n",
       "      <th>111237</th>\n",
       "      <td>COST</td>\n",
       "      <td>878.530029</td>\n",
       "      <td>878.530029</td>\n",
       "    </tr>\n",
       "  </tbody>\n",
       "</table>\n",
       "<p>111238 rows × 3 columns</p>\n",
       "</div>"
      ],
      "text/plain": [
       "       stock       Close   Adj Close\n",
       "0       MSFT   30.950001   23.347319\n",
       "1       MSFT   30.959999   23.354864\n",
       "2       MSFT   30.770000   23.211533\n",
       "3       MSFT   30.450001   22.970140\n",
       "4       MSFT   30.660000   23.128557\n",
       "...      ...         ...         ...\n",
       "111233  COST  901.440002  901.440002\n",
       "111234  COST  885.619995  885.619995\n",
       "111235  COST  886.520020  886.520020\n",
       "111236  COST  877.380005  877.380005\n",
       "111237  COST  878.530029  878.530029\n",
       "\n",
       "[111238 rows x 3 columns]"
      ]
     },
     "execution_count": 6,
     "metadata": {},
     "output_type": "execute_result"
    }
   ],
   "source": [
    "truth = {}\n"
   ]
  }
 ],
 "metadata": {
  "kernelspec": {
   "display_name": "Python 3 (ipykernel)",
   "language": "python",
   "name": "python3"
  },
  "language_info": {
   "codemirror_mode": {
    "name": "ipython",
    "version": 3
   },
   "file_extension": ".py",
   "mimetype": "text/x-python",
   "name": "python",
   "nbconvert_exporter": "python",
   "pygments_lexer": "ipython3",
   "version": "3.9.19"
  }
 },
 "nbformat": 4,
 "nbformat_minor": 5
}
