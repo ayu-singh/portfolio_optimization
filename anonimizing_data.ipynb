{
 "cells": [
  {
   "cell_type": "code",
   "execution_count": 17,
   "id": "28a5d566-5198-45ff-bb52-d99396cad51a",
   "metadata": {},
   "outputs": [],
   "source": [
    "import json\n",
    "import pandas as pd\n",
    "import random"
   ]
  },
  {
   "cell_type": "code",
   "execution_count": 18,
   "id": "eaaf2310-1a0a-49ad-ad5e-6fe9e0a1be33",
   "metadata": {},
   "outputs": [],
   "source": [
    "df = pd.read_csv(\"stocks_data.csv\")\n",
    "with open(\"stocks_info.json\", \"r\") as fp:\n",
    "    info = json.load(fp)"
   ]
  },
  {
   "cell_type": "code",
   "execution_count": 19,
   "id": "6a28c612-35a4-4394-89a5-cb5ae2c8f12f",
   "metadata": {},
   "outputs": [],
   "source": [
    "truth = {}\n",
    "\n",
    "for name in df[\"stock\"].unique():\n",
    "    truth[name] = \"\".join(random.sample(name, len(name)))"
   ]
  },
  {
   "cell_type": "code",
   "execution_count": 20,
   "id": "ccd8e23b-fd9f-45b9-9309-437d55c87ad9",
   "metadata": {},
   "outputs": [],
   "source": [
    "new_info = {}\n",
    "for name, new_name in truth.items():\n",
    "    df = df.replace(name, new_name)\n",
    "    new_info[new_name] = info[name]"
   ]
  },
  {
   "cell_type": "code",
   "execution_count": 23,
   "id": "f1030a54-ea54-4522-8dda-148bd7f7f7c2",
   "metadata": {},
   "outputs": [],
   "source": [
    "df.to_csv(\"stocks_data_final.csv\", index=False)\n",
    "with open(\"stocks_info_final.json\", \"w\") as fp:\n",
    "    json.dump(new_info, fp)"
   ]
  }
 ],
 "metadata": {
  "kernelspec": {
   "display_name": "Python 3 (ipykernel)",
   "language": "python",
   "name": "python3"
  },
  "language_info": {
   "codemirror_mode": {
    "name": "ipython",
    "version": 3
   },
   "file_extension": ".py",
   "mimetype": "text/x-python",
   "name": "python",
   "nbconvert_exporter": "python",
   "pygments_lexer": "ipython3",
   "version": "3.9.19"
  }
 },
 "nbformat": 4,
 "nbformat_minor": 5
}
