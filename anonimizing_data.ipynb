{
 "cells": [
  {
   "cell_type": "code",
   "execution_count": 7,
   "id": "28a5d566-5198-45ff-bb52-d99396cad51a",
   "metadata": {},
   "outputs": [],
   "source": [
    "import json\n",
    "import pandas as pd\n",
    "import random"
   ]
  },
  {
   "cell_type": "code",
   "execution_count": 4,
   "id": "eaaf2310-1a0a-49ad-ad5e-6fe9e0a1be33",
   "metadata": {},
   "outputs": [],
   "source": [
    "df = pd.read_csv(\"stocks_data.csv\")\n",
    "with open(\"stocks_info.json\", \"r\") as fp:\n",
    "    info = json.load(fp)"
   ]
  },
  {
   "cell_type": "code",
   "execution_count": 9,
   "id": "6a28c612-35a4-4394-89a5-cb5ae2c8f12f",
   "metadata": {},
   "outputs": [],
   "source": [
    "truth = {}\n",
    "\n",
    "for name in df[\"stock\"].unique():\n",
    "    truth[name] = \"\".join(random.sample(name, len(name)))"
   ]
  },
  {
   "cell_type": "code",
   "execution_count": 10,
   "id": "ccd8e23b-fd9f-45b9-9309-437d55c87ad9",
   "metadata": {},
   "outputs": [
    {
     "data": {
      "text/plain": [
       "{'MSFT': 'FTSM',\n",
       " 'AAPL': 'LAPA',\n",
       " 'GOOGL': 'GGOOL',\n",
       " 'INTC': 'TICN',\n",
       " 'CSCO': 'CSCO',\n",
       " 'AMZN': 'MANZ',\n",
       " 'TSLA': 'LSTA',\n",
       " 'HD': 'HD',\n",
       " 'MCD': 'MCD',\n",
       " 'NKE': 'ENK',\n",
       " 'JNJ': 'JNJ',\n",
       " 'PFE': 'FPE',\n",
       " 'MRK': 'RMK',\n",
       " 'ABT': 'TBA',\n",
       " 'AMGN': 'NGAM',\n",
       " 'JPM': 'MJP',\n",
       " 'BAC': 'CAB',\n",
       " 'WFC': 'FWC',\n",
       " 'GS': 'GS',\n",
       " 'MS': 'MS',\n",
       " 'BA': 'BA',\n",
       " 'CAT': 'ATC',\n",
       " 'GE': 'EG',\n",
       " 'MMM': 'MMM',\n",
       " 'HON': 'NOH',\n",
       " 'PG': 'GP',\n",
       " 'KO': 'OK',\n",
       " 'PEP': 'PEP',\n",
       " 'WMT': 'TWM',\n",
       " 'COST': 'STOC'}"
      ]
     },
     "execution_count": 10,
     "metadata": {},
     "output_type": "execute_result"
    }
   ],
   "source": [
    "for name, new_name in truth.ke"
   ]
  }
 ],
 "metadata": {
  "kernelspec": {
   "display_name": "Python 3 (ipykernel)",
   "language": "python",
   "name": "python3"
  },
  "language_info": {
   "codemirror_mode": {
    "name": "ipython",
    "version": 3
   },
   "file_extension": ".py",
   "mimetype": "text/x-python",
   "name": "python",
   "nbconvert_exporter": "python",
   "pygments_lexer": "ipython3",
   "version": "3.9.19"
  }
 },
 "nbformat": 4,
 "nbformat_minor": 5
}
