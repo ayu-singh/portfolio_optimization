{
 "cells": [
  {
   "cell_type": "code",
   "execution_count": null,
   "id": "28a5d566-5198-45ff-bb52-d99396cad51a",
   "metadata": {},
   "outputs": [],
   "source": []
  }
 ],
 "metadata": {
  "kernelspec": {
   "display_name": "",
   "name": ""
  },
  "language_info": {
   "name": ""
  }
 },
 "nbformat": 4,
 "nbformat_minor": 5
}
