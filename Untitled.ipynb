{
 "cells": [
  {
   "cell_type": "code",
   "execution_count": null,
   "id": "8c2cfa6f-88e5-4f82-bc8f-cdb994a9f774",
   "metadata": {},
   "outputs": [],
   "source": []
  }
 ],
 "metadata": {
  "kernelspec": {
   "display_name": "",
   "name": ""
  },
  "language_info": {
   "name": ""
  }
 },
 "nbformat": 4,
 "nbformat_minor": 5
}
