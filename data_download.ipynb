{
 "cells": [
  {
   "cell_type": "code",
   "execution_count": 2,
   "id": "8c2cfa6f-88e5-4f82-bc8f-cdb994a9f774",
   "metadata": {
    "scrolled": true
   },
   "outputs": [],
   "source": [
    "# pip install yfinance"
   ]
  },
  {
   "cell_type": "code",
   "execution_count": 4,
   "id": "01898189-629c-4043-8fbc-6bcea08c1bc1",
   "metadata": {},
   "outputs": [
    {
     "name": "stderr",
     "output_type": "stream",
     "text": [
      "[*********************100%***********************]  1 of 1 completed"
     ]
    },
    {
     "name": "stdout",
     "output_type": "stream",
     "text": [
      "                Open      High       Low     Close  Adj Close     Volume\n",
      "Date                                                                    \n",
      "2010-01-04  7.622500  7.660714  7.585000  7.643214   6.454504  493729600\n",
      "2010-01-05  7.664286  7.699643  7.616071  7.656429   6.465665  601904800\n",
      "2010-01-06  7.656429  7.686786  7.526786  7.534643   6.362819  552160000\n",
      "2010-01-07  7.562500  7.571429  7.466071  7.520714   6.351057  477131200\n",
      "2010-01-08  7.510714  7.571429  7.466429  7.570714   6.393281  447610800\n"
     ]
    },
    {
     "name": "stderr",
     "output_type": "stream",
     "text": [
      "\n"
     ]
    }
   ],
   "source": [
    "import yfinance as yf\n",
    "\n",
    "data = yf.download(\"AAPL\", start=\"2010-01-01\", end=\"2024-10-03\")\n",
    "print(data.head())"
   ]
  }
 ],
 "metadata": {
  "kernelspec": {
   "display_name": "Python 3 (ipykernel)",
   "language": "python",
   "name": "python3"
  },
  "language_info": {
   "codemirror_mode": {
    "name": "ipython",
    "version": 3
   },
   "file_extension": ".py",
   "mimetype": "text/x-python",
   "name": "python",
   "nbconvert_exporter": "python",
   "pygments_lexer": "ipython3",
   "version": "3.9.19"
  }
 },
 "nbformat": 4,
 "nbformat_minor": 5
}
