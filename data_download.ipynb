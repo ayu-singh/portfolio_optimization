{
 "cells": [
  {
   "cell_type": "code",
   "execution_count": 2,
   "id": "8c2cfa6f-88e5-4f82-bc8f-cdb994a9f774",
   "metadata": {
    "scrolled": true
   },
   "outputs": [],
   "source": [
    "# pip install yfinance"
   ]
  },
  {
   "cell_type": "code",
   "execution_count": 7,
   "id": "5fe57d6f-158e-4e05-8666-d7158525e00a",
   "metadata": {},
   "outputs": [],
   "source": [
    "import yfinance as yf\n",
    "from tqdm import tqdm\n",
    "import pandas as pd\n",
    "\n",
    "stocks = {\n",
    "  \"Technology\": [\n",
    "    {\"name\": \"Microsoft Corporation\", \"ticker\": \"MSFT\"},\n",
    "    {\"name\": \"Apple Inc.\", \"ticker\": \"AAPL\"},\n",
    "    {\"name\": \"Alphabet Inc.\", \"ticker\": \"GOOGL\"},\n",
    "    {\"name\": \"Intel Corporation\", \"ticker\": \"INTC\"},\n",
    "    {\"name\": \"Cisco Systems, Inc.\", \"ticker\": \"CSCO\"}\n",
    "  ],\n",
    "  \"Consumer Discretionary\": [\n",
    "    {\"name\": \"Amazon.com, Inc.\", \"ticker\": \"AMZN\"},\n",
    "    {\"name\": \"Tesla, Inc.\", \"ticker\": \"TSLA\"},\n",
    "    {\"name\": \"The Home Depot, Inc.\", \"ticker\": \"HD\"},\n",
    "    {\"name\": \"McDonald's Corporation\", \"ticker\": \"MCD\"},\n",
    "    {\"name\": \"Nike, Inc.\", \"ticker\": \"NKE\"}\n",
    "  ],\n",
    "  \"Healthcare\": [\n",
    "    {\"name\": \"Johnson & Johnson\", \"ticker\": \"JNJ\"},\n",
    "    {\"name\": \"Pfizer Inc.\", \"ticker\": \"PFE\"},\n",
    "    {\"name\": \"Merck & Co., Inc.\", \"ticker\": \"MRK\"},\n",
    "    {\"name\": \"Abbott Laboratories\", \"ticker\": \"ABT\"},\n",
    "    {\"name\": \"Amgen Inc.\", \"ticker\": \"AMGN\"}\n",
    "  ],\n",
    "  \"Financials\": [\n",
    "    {\"name\": \"JPMorgan Chase & Co.\", \"ticker\": \"JPM\"},\n",
    "    {\"name\": \"Bank of America Corporation\", \"ticker\": \"BAC\"},\n",
    "    {\"name\": \"Wells Fargo & Company\", \"ticker\": \"WFC\"},\n",
    "    {\"name\": \"Goldman Sachs Group, Inc.\", \"ticker\": \"GS\"},\n",
    "    {\"name\": \"Morgan Stanley\", \"ticker\": \"MS\"}\n",
    "  ],\n",
    "  \"Industrials\": [\n",
    "    {\"name\": \"Boeing Company\", \"ticker\": \"BA\"},\n",
    "    {\"name\": \"Caterpillar Inc.\", \"ticker\": \"CAT\"},\n",
    "    {\"name\": \"General Electric Company\", \"ticker\": \"GE\"},\n",
    "    {\"name\": \"3M Company\", \"ticker\": \"MMM\"},\n",
    "    {\"name\": \"Honeywell International Inc.\", \"ticker\": \"HON\"}\n",
    "  ],\n",
    "  \"Consumer Staples\": [\n",
    "    {\"name\": \"The Procter & Gamble Company\", \"ticker\": \"PG\"},\n",
    "    {\"name\": \"Coca-Cola Company\", \"ticker\": \"KO\"},\n",
    "    {\"name\": \"PepsiCo, Inc.\", \"ticker\": \"PEP\"},\n",
    "    {\"name\": \"Walmart Inc.\", \"ticker\": \"WMT\"},\n",
    "    {\"name\": \"Costco Wholesale Corporation\", \"ticker\": \"COST\"}\n",
    "  ]\n",
    "}\n"
   ]
  },
  {
   "cell_type": "code",
   "execution_count": 31,
   "id": "47b3e2f4-6b8e-4445-b083-33d62badf29f",
   "metadata": {
    "scrolled": true
   },
   "outputs": [
    {
     "name": "stderr",
     "output_type": "stream",
     "text": [
      "[*********************100%***********************]  1 of 1 completed\n",
      "[*********************100%***********************]  1 of 1 completed\n",
      "[*********************100%***********************]  1 of 1 completed\n",
      "[*********************100%***********************]  1 of 1 completed\n",
      "[*********************100%***********************]  1 of 1 completed\n"
     ]
    },
    {
     "name": "stdout",
     "output_type": "stream",
     "text": [
      "MSFT\n",
      "AAPL\n",
      "GOOGL\n",
      "INTC\n",
      "CSCO\n",
      "AMZN\n"
     ]
    },
    {
     "name": "stderr",
     "output_type": "stream",
     "text": [
      "[*********************100%***********************]  1 of 1 completed\n",
      "[*********************100%***********************]  1 of 1 completed\n",
      "[*********************100%***********************]  1 of 1 completed\n",
      "[*********************100%***********************]  1 of 1 completed\n",
      "[*********************100%***********************]  1 of 1 completed\n",
      "[*********************100%***********************]  1 of 1 completed\n"
     ]
    },
    {
     "name": "stdout",
     "output_type": "stream",
     "text": [
      "TSLA\n",
      "HD\n",
      "MCD\n",
      "NKE\n",
      "JNJ\n",
      "PFE\n"
     ]
    },
    {
     "name": "stderr",
     "output_type": "stream",
     "text": [
      "[*********************100%***********************]  1 of 1 completed\n",
      "[*********************100%***********************]  1 of 1 completed\n",
      "[*********************100%***********************]  1 of 1 completed\n",
      "[*********************100%***********************]  1 of 1 completed\n",
      "[*********************100%***********************]  1 of 1 completed\n",
      "[*********************100%***********************]  1 of 1 completed\n",
      "[*********************100%***********************]  1 of 1 completed\n"
     ]
    },
    {
     "name": "stdout",
     "output_type": "stream",
     "text": [
      "MRK\n",
      "ABT\n",
      "AMGN\n",
      "JPM\n",
      "BAC\n",
      "WFC\n",
      "GS\n"
     ]
    },
    {
     "name": "stderr",
     "output_type": "stream",
     "text": [
      "[*********************100%***********************]  1 of 1 completed\n",
      "[*********************100%***********************]  1 of 1 completed\n",
      "[*********************100%***********************]  1 of 1 completed\n",
      "[*********************100%***********************]  1 of 1 completed\n",
      "[*********************100%***********************]  1 of 1 completed\n",
      "[*********************100%***********************]  1 of 1 completed\n",
      " 80%|████████  | 24/30 [00:00<00:00, 27.49it/s]"
     ]
    },
    {
     "name": "stdout",
     "output_type": "stream",
     "text": [
      "MS\n",
      "BA\n",
      "CAT\n",
      "GE\n",
      "MMM\n",
      "HON\n"
     ]
    },
    {
     "name": "stderr",
     "output_type": "stream",
     "text": [
      "[*********************100%***********************]  1 of 1 completed\n",
      "[*********************100%***********************]  1 of 1 completed\n",
      "[*********************100%***********************]  1 of 1 completed\n",
      "[*********************100%***********************]  1 of 1 completed\n",
      "[*********************100%***********************]  1 of 1 completed\n",
      "[*********************100%***********************]  1 of 1 completed\n",
      "100%|██████████| 30/30 [00:01<00:00, 27.94it/s]"
     ]
    },
    {
     "name": "stdout",
     "output_type": "stream",
     "text": [
      "PG\n",
      "KO\n",
      "PEP\n",
      "WMT\n",
      "COST\n"
     ]
    },
    {
     "name": "stderr",
     "output_type": "stream",
     "text": [
      "\n"
     ]
    }
   ],
   "source": [
    "stocks_list = [st[\"ticker\"]  for key,val in stocks.items() for st in val]\n",
    "counter = 1\n",
    "for ticker in tqdm(stocks_list):\n",
    "    if counter == 1:\n",
    "        data = yf.download(ticker, start=\"2010-01-01\", end=\"2024-10-03\")\n",
    "        data[\"stock\"] = [ticker]*len(data)\n",
    "    else:\n",
    "        df = yf.download(ticker, start=\"2010-01-01\", end=\"2024-10-03\")\n",
    "        df[\"stock\"] = [ticker]*len(df)\n",
    "        data._append(df, ignore_index=True)\n",
    "        del df\n",
    "    counter += 1\n",
    "        "
   ]
  },
  {
   "cell_type": "code",
   "execution_count": 33,
   "id": "cb4363db-e984-4f86-bd9f-63d797396d30",
   "metadata": {},
   "outputs": [
    {
     "data": {
      "text/plain": [
       "array(['MSFT'], dtype=object)"
      ]
     },
     "execution_count": 33,
     "metadata": {},
     "output_type": "execute_result"
    }
   ],
   "source": [
    "data[\"stock\"].unique()"
   ]
  }
 ],
 "metadata": {
  "kernelspec": {
   "display_name": "Python 3 (ipykernel)",
   "language": "python",
   "name": "python3"
  },
  "language_info": {
   "codemirror_mode": {
    "name": "ipython",
    "version": 3
   },
   "file_extension": ".py",
   "mimetype": "text/x-python",
   "name": "python",
   "nbconvert_exporter": "python",
   "pygments_lexer": "ipython3",
   "version": "3.9.19"
  }
 },
 "nbformat": 4,
 "nbformat_minor": 5
}
