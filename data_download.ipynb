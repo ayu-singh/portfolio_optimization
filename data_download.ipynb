{
 "cells": [
  {
   "cell_type": "code",
   "execution_count": 3,
   "id": "8c2cfa6f-88e5-4f82-bc8f-cdb994a9f774",
   "metadata": {
    "scrolled": true
   },
   "outputs": [],
   "source": [
    "# pip install yfinance\n",
    "# !pip install snowflake-connector-python\n",
    "# !pip install snowflake-snowpark-python"
   ]
  },
  {
   "cell_type": "code",
   "execution_count": 14,
   "id": "5fe57d6f-158e-4e05-8666-d7158525e00a",
   "metadata": {},
   "outputs": [],
   "source": [
    "import yfinance as yf\n",
    "from tqdm import tqdm\n",
    "import pandas as pd\n",
    "\n",
    "# from snowflake.connector.pandas_tools import write_pandas\n",
    "# import pandas as pd\n",
    "# import configparser\n",
    "# from snowflake.snowpark.session import Session\n",
    "\n",
    "# config = configparser.ConfigParser()\n",
    "# config.read(\"snowflake_config_logs.ini\")\n",
    "\n",
    "# connection_params = {\n",
    "#     'user': f'{config[\"Snowflake\"][\"user\"]}',\n",
    "#     'password': f'{config[\"Snowflake\"][\"password\"]}',\n",
    "#     'account': f'{config[\"Snowflake\"][\"account\"]}',\n",
    "#     'warehouse': f'{config[\"Snowflake\"][\"warehouse\"]}',\n",
    "#     'database': f'{config[\"Snowflake\"][\"database\"]}',\n",
    "#     'schema': f'{config[\"Snowflake\"][\"schema\"]}',\n",
    "#     'role': f'{config[\"Snowflake\"][\"role\"]}'\n",
    "# }\n",
    "# #print('connection_successful')\n",
    "# session = Session.builder.configs(connection_params).create()\n",
    "\n",
    "stocks = {\n",
    "  \"Technology\": [\n",
    "    {\"name\": \"Microsoft Corporation\", \"ticker\": \"MSFT\"},\n",
    "    {\"name\": \"Apple Inc.\", \"ticker\": \"AAPL\"},\n",
    "    {\"name\": \"Alphabet Inc.\", \"ticker\": \"GOOGL\"},\n",
    "    {\"name\": \"Intel Corporation\", \"ticker\": \"INTC\"},\n",
    "    {\"name\": \"Cisco Systems, Inc.\", \"ticker\": \"CSCO\"}\n",
    "  ],\n",
    "  \"Consumer Discretionary\": [\n",
    "    {\"name\": \"Amazon.com, Inc.\", \"ticker\": \"AMZN\"},\n",
    "    {\"name\": \"Tesla, Inc.\", \"ticker\": \"TSLA\"},\n",
    "    {\"name\": \"The Home Depot, Inc.\", \"ticker\": \"HD\"},\n",
    "    {\"name\": \"McDonald's Corporation\", \"ticker\": \"MCD\"},\n",
    "    {\"name\": \"Nike, Inc.\", \"ticker\": \"NKE\"}\n",
    "  ],\n",
    "  \"Healthcare\": [\n",
    "    {\"name\": \"Johnson & Johnson\", \"ticker\": \"JNJ\"},\n",
    "    {\"name\": \"Pfizer Inc.\", \"ticker\": \"PFE\"},\n",
    "    {\"name\": \"Merck & Co., Inc.\", \"ticker\": \"MRK\"},\n",
    "    {\"name\": \"Abbott Laboratories\", \"ticker\": \"ABT\"},\n",
    "    {\"name\": \"Amgen Inc.\", \"ticker\": \"AMGN\"}\n",
    "  ],\n",
    "  \"Financials\": [\n",
    "    {\"name\": \"JPMorgan Chase & Co.\", \"ticker\": \"JPM\"},\n",
    "    {\"name\": \"Bank of America Corporation\", \"ticker\": \"BAC\"},\n",
    "    {\"name\": \"Wells Fargo & Company\", \"ticker\": \"WFC\"},\n",
    "    {\"name\": \"Goldman Sachs Group, Inc.\", \"ticker\": \"GS\"},\n",
    "    {\"name\": \"Morgan Stanley\", \"ticker\": \"MS\"}\n",
    "  ],\n",
    "  \"Industrials\": [\n",
    "    {\"name\": \"Boeing Company\", \"ticker\": \"BA\"},\n",
    "    {\"name\": \"Caterpillar Inc.\", \"ticker\": \"CAT\"},\n",
    "    {\"name\": \"General Electric Company\", \"ticker\": \"GE\"},\n",
    "    {\"name\": \"3M Company\", \"ticker\": \"MMM\"},\n",
    "    {\"name\": \"Honeywell International Inc.\", \"ticker\": \"HON\"}\n",
    "  ],\n",
    "  \"Consumer Staples\": [\n",
    "    {\"name\": \"The Procter & Gamble Company\", \"ticker\": \"PG\"},\n",
    "    {\"name\": \"Coca-Cola Company\", \"ticker\": \"KO\"},\n",
    "    {\"name\": \"PepsiCo, Inc.\", \"ticker\": \"PEP\"},\n",
    "    {\"name\": \"Walmart Inc.\", \"ticker\": \"WMT\"},\n",
    "    {\"name\": \"Costco Wholesale Corporation\", \"ticker\": \"COST\"}\n",
    "  ]\n",
    "}\n"
   ]
  },
  {
   "cell_type": "code",
   "execution_count": 15,
   "id": "47b3e2f4-6b8e-4445-b083-33d62badf29f",
   "metadata": {
    "scrolled": true
   },
   "outputs": [
    {
     "name": "stderr",
     "output_type": "stream",
     "text": [
      "[*********************100%***********************]  1 of 1 completed\n",
      "[*********************100%***********************]  1 of 1 completed\n",
      "[*********************100%***********************]  1 of 1 completed\n",
      "[*********************100%***********************]  1 of 1 completed\n",
      "[*********************100%***********************]  1 of 1 completed\n",
      "[*********************100%***********************]  1 of 1 completed\n",
      "[*********************100%***********************]  1 of 1 completed\n",
      " 23%|██▎       | 7/30 [00:00<00:00, 31.28it/s]"
     ]
    },
    {
     "name": "stdout",
     "output_type": "stream",
     "text": [
      "AAPL\n",
      "GOOGL\n",
      "INTC\n",
      "CSCO\n",
      "AMZN\n",
      "TSLA\n",
      "HD\n"
     ]
    },
    {
     "name": "stderr",
     "output_type": "stream",
     "text": [
      "[*********************100%***********************]  1 of 1 completed\n",
      "[*********************100%***********************]  1 of 1 completed\n",
      "[*********************100%***********************]  1 of 1 completed\n",
      "[*********************100%***********************]  1 of 1 completed\n",
      "[*********************100%***********************]  1 of 1 completed\n",
      "[*********************100%***********************]  1 of 1 completed\n"
     ]
    },
    {
     "name": "stdout",
     "output_type": "stream",
     "text": [
      "MCD\n",
      "NKE\n",
      "JNJ\n",
      "PFE\n",
      "MRK\n",
      "ABT\n"
     ]
    },
    {
     "name": "stderr",
     "output_type": "stream",
     "text": [
      "[*********************100%***********************]  1 of 1 completed\n",
      "[*********************100%***********************]  1 of 1 completed\n",
      "[*********************100%***********************]  1 of 1 completed\n",
      "[*********************100%***********************]  1 of 1 completed\n",
      "[*********************100%***********************]  1 of 1 completed\n",
      "[*********************100%***********************]  1 of 1 completed\n",
      "[*********************100%***********************]  1 of 1 completed\n"
     ]
    },
    {
     "name": "stdout",
     "output_type": "stream",
     "text": [
      "AMGN\n",
      "JPM\n",
      "BAC\n",
      "WFC\n",
      "GS\n",
      "MS\n",
      "BA\n"
     ]
    },
    {
     "name": "stderr",
     "output_type": "stream",
     "text": [
      "[*********************100%***********************]  1 of 1 completed\n",
      "[*********************100%***********************]  1 of 1 completed\n",
      "[*********************100%***********************]  1 of 1 completed\n",
      "[*********************100%***********************]  1 of 1 completed\n",
      "[*********************100%***********************]  1 of 1 completed\n"
     ]
    },
    {
     "name": "stdout",
     "output_type": "stream",
     "text": [
      "CAT\n",
      "GE\n",
      "MMM\n",
      "HON\n",
      "PG\n"
     ]
    },
    {
     "name": "stderr",
     "output_type": "stream",
     "text": [
      "[*********************100%***********************]  1 of 1 completed\n",
      "[*********************100%***********************]  1 of 1 completed\n",
      "[*********************100%***********************]  1 of 1 completed\n",
      "[*********************100%***********************]  1 of 1 completed\n",
      "[*********************100%***********************]  1 of 1 completed\n",
      "100%|██████████| 30/30 [00:01<00:00, 26.54it/s]"
     ]
    },
    {
     "name": "stdout",
     "output_type": "stream",
     "text": [
      "KO\n",
      "PEP\n",
      "WMT\n",
      "COST\n"
     ]
    },
    {
     "name": "stderr",
     "output_type": "stream",
     "text": [
      "\n"
     ]
    }
   ],
   "source": [
    "stocks_list = [st[\"ticker\"]  for key,val in stocks.items() for st in val]\n",
    "counter = 1\n",
    "for ticker in tqdm(stocks_list):\n",
    "    if counter == 1:\n",
    "        data = yf.download(ticker, start=\"2010-01-01\", end=\"2024-10-03\")\n",
    "        data[\"stock\"] = [ticker]*len(data)\n",
    "    else:\n",
    "        print(ticker)\n",
    "        df = yf.download(ticker, start=\"2010-01-01\", end=\"2024-10-03\")\n",
    "        df[\"stock\"] = [ticker]*len(df)\n",
    "        data = data._append(df, ignore_index=True)\n",
    "        del df\n",
    "    counter += 1\n",
    "        "
   ]
  },
  {
   "cell_type": "code",
   "execution_count": 16,
   "id": "cb4363db-e984-4f86-bd9f-63d797396d30",
   "metadata": {},
   "outputs": [],
   "source": [
    "data = data[[\"stock\",\"Close\",\"Adj Close\"]]"
   ]
  },
  {
   "cell_type": "code",
   "execution_count": 17,
   "id": "fe53a105-4218-47df-8ef9-e2bf076d0157",
   "metadata": {},
   "outputs": [],
   "source": [
    "data.to_csv(\"stocks_data.csv\", index=False)"
   ]
  },
  {
   "cell_type": "code",
   "execution_count": 21,
   "id": "2bcadc37-0a61-4550-8c91-8596f467756e",
   "metadata": {},
   "outputs": [
    {
     "name": "stderr",
     "output_type": "stream",
     "text": [
      "100%|██████████| 30/30 [00:02<00:00, 14.46it/s]\n"
     ]
    }
   ],
   "source": [
    "required_info = ['city','state','zip','country',\"industry\", \"sector\", \"fullTimeEmployees\", \"auditRisk\", 'boardRisk','compensationRisk',\n",
    " 'shareHolderRightsRisk','overallRisk', 'dividendRate','dividendYield','beta', 'totalCash',\n",
    " 'totalCashPerShare', 'ebitda', 'totalDebt', 'quickRatio', 'currentRatio', 'totalRevenue', 'debtToEquity', 'revenuePerShare',\n",
    " 'returnOnAssets', 'returnOnEquity',\n",
    " 'freeCashflow', 'operatingCashflow', 'earningsGrowth', 'revenueGrowth', 'grossMargins', 'ebitdaMargins', 'operatingMargins']\n",
    "\n",
    "stock_info = {}\n",
    "for ticker in tqdm(stocks_list):\n",
    "    info = yf.Ticker(ticker)\n",
    "    stock_info[ticker] = {k:v for k, v in info.info.items() if k in required_info}\n"
   ]
  },
  {
   "cell_type": "code",
   "execution_count": 25,
   "id": "29407e00-3665-4a91-82e6-d10edd9c9aac",
   "metadata": {},
   "outputs": [],
   "source": [
    "import json\n",
    "\n",
    "with open(\"stocks_info.json\", \"w\") as fp:\n",
    "    json.dump(stock_info, fp)"
   ]
  }
 ],
 "metadata": {
  "kernelspec": {
   "display_name": "Python 3 (ipykernel)",
   "language": "python",
   "name": "python3"
  },
  "language_info": {
   "codemirror_mode": {
    "name": "ipython",
    "version": 3
   },
   "file_extension": ".py",
   "mimetype": "text/x-python",
   "name": "python",
   "nbconvert_exporter": "python",
   "pygments_lexer": "ipython3",
   "version": "3.9.19"
  }
 },
 "nbformat": 4,
 "nbformat_minor": 5
}
