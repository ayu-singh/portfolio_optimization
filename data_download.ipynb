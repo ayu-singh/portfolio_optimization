{
 "cells": [
  {
   "cell_type": "code",
   "execution_count": 3,
   "id": "8c2cfa6f-88e5-4f82-bc8f-cdb994a9f774",
   "metadata": {
    "scrolled": true
   },
   "outputs": [],
   "source": [
    "# pip install yfinance\n",
    "# !pip install snowflake-connector-python\n",
    "# !pip install snowflake-snowpark-python"
   ]
  },
  {
   "cell_type": "code",
   "execution_count": 2,
   "id": "5fe57d6f-158e-4e05-8666-d7158525e00a",
   "metadata": {},
   "outputs": [],
   "source": [
    "import yfinance as yf\n",
    "from tqdm import tqdm\n",
    "import pandas as pd\n",
    "\n",
    "# from snowflake.connector.pandas_tools import write_pandas\n",
    "# import pandas as pd\n",
    "# import configparser\n",
    "# from snowflake.snowpark.session import Session\n",
    "\n",
    "# config = configparser.ConfigParser()\n",
    "# config.read(\"snowflake_config_logs.ini\")\n",
    "\n",
    "# connection_params = {\n",
    "#     'user': f'{config[\"Snowflake\"][\"user\"]}',\n",
    "#     'password': f'{config[\"Snowflake\"][\"password\"]}',\n",
    "#     'account': f'{config[\"Snowflake\"][\"account\"]}',\n",
    "#     'warehouse': f'{config[\"Snowflake\"][\"warehouse\"]}',\n",
    "#     'database': f'{config[\"Snowflake\"][\"database\"]}',\n",
    "#     'schema': f'{config[\"Snowflake\"][\"schema\"]}',\n",
    "#     'role': f'{config[\"Snowflake\"][\"role\"]}'\n",
    "# }\n",
    "# #print('connection_successful')\n",
    "# session = Session.builder.configs(connection_params).create()\n",
    "\n",
    "stocks = {\n",
    "  \"Technology\": [\n",
    "    {\"name\": \"Microsoft Corporation\", \"ticker\": \"MSFT\"},\n",
    "    {\"name\": \"Apple Inc.\", \"ticker\": \"AAPL\"},\n",
    "    {\"name\": \"Alphabet Inc.\", \"ticker\": \"GOOGL\"},\n",
    "    {\"name\": \"Intel Corporation\", \"ticker\": \"INTC\"},\n",
    "    {\"name\": \"Cisco Systems, Inc.\", \"ticker\": \"CSCO\"}\n",
    "  ],\n",
    "  \"Consumer Discretionary\": [\n",
    "    {\"name\": \"Amazon.com, Inc.\", \"ticker\": \"AMZN\"},\n",
    "    {\"name\": \"Tesla, Inc.\", \"ticker\": \"TSLA\"},\n",
    "    {\"name\": \"The Home Depot, Inc.\", \"ticker\": \"HD\"},\n",
    "    {\"name\": \"McDonald's Corporation\", \"ticker\": \"MCD\"},\n",
    "    {\"name\": \"Nike, Inc.\", \"ticker\": \"NKE\"}\n",
    "  ],\n",
    "  \"Healthcare\": [\n",
    "    {\"name\": \"Johnson & Johnson\", \"ticker\": \"JNJ\"},\n",
    "    {\"name\": \"Pfizer Inc.\", \"ticker\": \"PFE\"},\n",
    "    {\"name\": \"Merck & Co., Inc.\", \"ticker\": \"MRK\"},\n",
    "    {\"name\": \"Abbott Laboratories\", \"ticker\": \"ABT\"},\n",
    "    {\"name\": \"Amgen Inc.\", \"ticker\": \"AMGN\"}\n",
    "  ],\n",
    "  \"Financials\": [\n",
    "    {\"name\": \"JPMorgan Chase & Co.\", \"ticker\": \"JPM\"},\n",
    "    {\"name\": \"Bank of America Corporation\", \"ticker\": \"BAC\"},\n",
    "    {\"name\": \"Wells Fargo & Company\", \"ticker\": \"WFC\"},\n",
    "    {\"name\": \"Goldman Sachs Group, Inc.\", \"ticker\": \"GS\"},\n",
    "    {\"name\": \"Morgan Stanley\", \"ticker\": \"MS\"}\n",
    "  ],\n",
    "  \"Industrials\": [\n",
    "    {\"name\": \"Boeing Company\", \"ticker\": \"BA\"},\n",
    "    {\"name\": \"Caterpillar Inc.\", \"ticker\": \"CAT\"},\n",
    "    {\"name\": \"General Electric Company\", \"ticker\": \"GE\"},\n",
    "    {\"name\": \"3M Company\", \"ticker\": \"MMM\"},\n",
    "    {\"name\": \"Honeywell International Inc.\", \"ticker\": \"HON\"}\n",
    "  ],\n",
    "  \"Consumer Staples\": [\n",
    "    {\"name\": \"The Procter & Gamble Company\", \"ticker\": \"PG\"},\n",
    "    {\"name\": \"Coca-Cola Company\", \"ticker\": \"KO\"},\n",
    "    {\"name\": \"PepsiCo, Inc.\", \"ticker\": \"PEP\"},\n",
    "    {\"name\": \"Walmart Inc.\", \"ticker\": \"WMT\"},\n",
    "    {\"name\": \"Costco Wholesale Corporation\", \"ticker\": \"COST\"}\n",
    "  ]\n",
    "}\n"
   ]
  },
  {
   "cell_type": "code",
   "execution_count": 3,
   "id": "47b3e2f4-6b8e-4445-b083-33d62badf29f",
   "metadata": {
    "scrolled": true
   },
   "outputs": [
    {
     "name": "stderr",
     "output_type": "stream",
     "text": [
      "[*********************100%***********************]  1 of 1 completed\n",
      "[*********************100%***********************]  1 of 1 completed\n",
      "  7%|▋         | 2/30 [00:00<00:05,  5.06it/s]"
     ]
    },
    {
     "name": "stdout",
     "output_type": "stream",
     "text": [
      "AAPL\n",
      "GOOGL\n"
     ]
    },
    {
     "name": "stderr",
     "output_type": "stream",
     "text": [
      "[*********************100%***********************]  1 of 1 completed\n",
      "[*********************100%***********************]  1 of 1 completed\n",
      " 13%|█▎        | 4/30 [00:00<00:04,  5.44it/s]"
     ]
    },
    {
     "name": "stdout",
     "output_type": "stream",
     "text": [
      "INTC\n",
      "CSCO\n"
     ]
    },
    {
     "name": "stderr",
     "output_type": "stream",
     "text": [
      "[*********************100%***********************]  1 of 1 completed\n",
      "[*********************100%***********************]  1 of 1 completed\n",
      " 20%|██        | 6/30 [00:01<00:03,  6.64it/s]"
     ]
    },
    {
     "name": "stdout",
     "output_type": "stream",
     "text": [
      "AMZN\n",
      "TSLA\n"
     ]
    },
    {
     "name": "stderr",
     "output_type": "stream",
     "text": [
      "[*********************100%***********************]  1 of 1 completed\n",
      "[*********************100%***********************]  1 of 1 completed\n",
      " 27%|██▋       | 8/30 [00:01<00:03,  6.28it/s]"
     ]
    },
    {
     "name": "stdout",
     "output_type": "stream",
     "text": [
      "HD\n",
      "MCD\n"
     ]
    },
    {
     "name": "stderr",
     "output_type": "stream",
     "text": [
      "[*********************100%***********************]  1 of 1 completed\n",
      "[*********************100%***********************]  1 of 1 completed\n",
      " 33%|███▎      | 10/30 [00:01<00:03,  5.90it/s]"
     ]
    },
    {
     "name": "stdout",
     "output_type": "stream",
     "text": [
      "NKE\n",
      "JNJ\n"
     ]
    },
    {
     "name": "stderr",
     "output_type": "stream",
     "text": [
      "[*********************100%***********************]  1 of 1 completed\n",
      "[*********************100%***********************]  1 of 1 completed\n",
      " 40%|████      | 12/30 [00:02<00:03,  5.48it/s]"
     ]
    },
    {
     "name": "stdout",
     "output_type": "stream",
     "text": [
      "PFE\n",
      "MRK\n"
     ]
    },
    {
     "name": "stderr",
     "output_type": "stream",
     "text": [
      "[*********************100%***********************]  1 of 1 completed\n",
      "[*********************100%***********************]  1 of 1 completed\n",
      " 47%|████▋     | 14/30 [00:02<00:03,  5.26it/s]"
     ]
    },
    {
     "name": "stdout",
     "output_type": "stream",
     "text": [
      "ABT\n",
      "AMGN\n"
     ]
    },
    {
     "name": "stderr",
     "output_type": "stream",
     "text": [
      "[*********************100%***********************]  1 of 1 completed\n",
      "[*********************100%***********************]  1 of 1 completed\n",
      " 53%|█████▎    | 16/30 [00:02<00:02,  5.68it/s]"
     ]
    },
    {
     "name": "stdout",
     "output_type": "stream",
     "text": [
      "JPM\n",
      "BAC\n"
     ]
    },
    {
     "name": "stderr",
     "output_type": "stream",
     "text": [
      "[*********************100%***********************]  1 of 1 completed\n",
      "[*********************100%***********************]  1 of 1 completed\n",
      " 60%|██████    | 18/30 [00:03<00:01,  6.01it/s]"
     ]
    },
    {
     "name": "stdout",
     "output_type": "stream",
     "text": [
      "WFC\n",
      "GS\n"
     ]
    },
    {
     "name": "stderr",
     "output_type": "stream",
     "text": [
      "[*********************100%***********************]  1 of 1 completed\n",
      "[*********************100%***********************]  1 of 1 completed\n",
      " 67%|██████▋   | 20/30 [00:03<00:01,  6.05it/s]"
     ]
    },
    {
     "name": "stdout",
     "output_type": "stream",
     "text": [
      "MS\n",
      "BA\n"
     ]
    },
    {
     "name": "stderr",
     "output_type": "stream",
     "text": [
      "[*********************100%***********************]  1 of 1 completed\n",
      " 70%|███████   | 21/30 [00:03<00:01,  5.41it/s]"
     ]
    },
    {
     "name": "stdout",
     "output_type": "stream",
     "text": [
      "CAT\n"
     ]
    },
    {
     "name": "stderr",
     "output_type": "stream",
     "text": [
      "[*********************100%***********************]  1 of 1 completed\n",
      " 73%|███████▎  | 22/30 [00:03<00:01,  5.08it/s]"
     ]
    },
    {
     "name": "stdout",
     "output_type": "stream",
     "text": [
      "GE\n"
     ]
    },
    {
     "name": "stderr",
     "output_type": "stream",
     "text": [
      "[*********************100%***********************]  1 of 1 completed\n",
      " 77%|███████▋  | 23/30 [00:04<00:01,  4.81it/s]"
     ]
    },
    {
     "name": "stdout",
     "output_type": "stream",
     "text": [
      "MMM\n"
     ]
    },
    {
     "name": "stderr",
     "output_type": "stream",
     "text": [
      "[*********************100%***********************]  1 of 1 completed\n",
      " 80%|████████  | 24/30 [00:04<00:01,  4.79it/s]"
     ]
    },
    {
     "name": "stdout",
     "output_type": "stream",
     "text": [
      "HON\n"
     ]
    },
    {
     "name": "stderr",
     "output_type": "stream",
     "text": [
      "[*********************100%***********************]  1 of 1 completed\n",
      " 83%|████████▎ | 25/30 [00:04<00:01,  4.66it/s]"
     ]
    },
    {
     "name": "stdout",
     "output_type": "stream",
     "text": [
      "PG\n"
     ]
    },
    {
     "name": "stderr",
     "output_type": "stream",
     "text": [
      "[*********************100%***********************]  1 of 1 completed\n",
      "[*********************100%***********************]  1 of 1 completed"
     ]
    },
    {
     "name": "stdout",
     "output_type": "stream",
     "text": [
      "KO\n"
     ]
    },
    {
     "name": "stderr",
     "output_type": "stream",
     "text": [
      "\n",
      "[*********************100%***********************]  1 of 1 completed\n",
      " 93%|█████████▎| 28/30 [00:05<00:00,  4.72it/s]"
     ]
    },
    {
     "name": "stdout",
     "output_type": "stream",
     "text": [
      "PEP\n",
      "WMT\n"
     ]
    },
    {
     "name": "stderr",
     "output_type": "stream",
     "text": [
      "[*********************100%***********************]  1 of 1 completed\n",
      "[*********************100%***********************]  1 of 1 completed\n",
      "100%|██████████| 30/30 [00:05<00:00,  5.33it/s]"
     ]
    },
    {
     "name": "stdout",
     "output_type": "stream",
     "text": [
      "COST\n"
     ]
    },
    {
     "name": "stderr",
     "output_type": "stream",
     "text": [
      "\n"
     ]
    }
   ],
   "source": [
    "stocks_list = [st[\"ticker\"]  for key,val in stocks.items() for st in val]\n",
    "counter = 1\n",
    "for ticker in tqdm(stocks_list):\n",
    "    if counter == 1:\n",
    "        data = yf.download(ticker, start=\"2010-01-01\", end=\"2024-10-03\")\n",
    "        data[\"stock\"] = [ticker]*len(data)\n",
    "    else:\n",
    "        print(ticker)\n",
    "        df = yf.download(ticker, start=\"2010-01-01\", end=\"2024-10-03\")\n",
    "        df[\"stock\"] = [ticker]*len(df)\n",
    "        data = data._append(df, ignore_index=True)\n",
    "        del df\n",
    "    counter += 1\n",
    "        "
   ]
  },
  {
   "cell_type": "code",
   "execution_count": 4,
   "id": "cb4363db-e984-4f86-bd9f-63d797396d30",
   "metadata": {},
   "outputs": [],
   "source": [
    "data = data[[\"stock\",\"Close\",\"Adj Close\"]]"
   ]
  },
  {
   "cell_type": "code",
   "execution_count": 6,
   "id": "fe53a105-4218-47df-8ef9-e2bf076d0157",
   "metadata": {},
   "outputs": [],
   "source": [
    "data.to_csv(\"stocks_data.csv\", index=False)"
   ]
  },
  {
   "cell_type": "code",
   "execution_count": 13,
   "id": "2bcadc37-0a61-4550-8c91-8596f467756e",
   "metadata": {},
   "outputs": [
    {
     "ename": "NameError",
     "evalue": "name 'stock_list' is not defined",
     "output_type": "error",
     "traceback": [
      "\u001b[0;31m---------------------------------------------------------------------------\u001b[0m",
      "\u001b[0;31mNameError\u001b[0m                                 Traceback (most recent call last)",
      "Cell \u001b[0;32mIn[13], line 8\u001b[0m\n\u001b[1;32m      1\u001b[0m required_info \u001b[38;5;241m=\u001b[39m [\u001b[38;5;124m'\u001b[39m\u001b[38;5;124mcity\u001b[39m\u001b[38;5;124m'\u001b[39m,\u001b[38;5;124m'\u001b[39m\u001b[38;5;124mstate\u001b[39m\u001b[38;5;124m'\u001b[39m,\u001b[38;5;124m'\u001b[39m\u001b[38;5;124mzip\u001b[39m\u001b[38;5;124m'\u001b[39m,\u001b[38;5;124m'\u001b[39m\u001b[38;5;124mcountry\u001b[39m\u001b[38;5;124m'\u001b[39m,\u001b[38;5;124m\"\u001b[39m\u001b[38;5;124mindustry\u001b[39m\u001b[38;5;124m\"\u001b[39m, \u001b[38;5;124m\"\u001b[39m\u001b[38;5;124msector\u001b[39m\u001b[38;5;124m\"\u001b[39m, \u001b[38;5;124m\"\u001b[39m\u001b[38;5;124mfullTimeEmployees\u001b[39m\u001b[38;5;124m\"\u001b[39m, \u001b[38;5;124m\"\u001b[39m\u001b[38;5;124mauditRisk\u001b[39m\u001b[38;5;124m\"\u001b[39m, \u001b[38;5;124m'\u001b[39m\u001b[38;5;124mboardRisk\u001b[39m\u001b[38;5;124m'\u001b[39m,\u001b[38;5;124m'\u001b[39m\u001b[38;5;124mcompensationRisk\u001b[39m\u001b[38;5;124m'\u001b[39m,\n\u001b[1;32m      2\u001b[0m  \u001b[38;5;124m'\u001b[39m\u001b[38;5;124mshareHolderRightsRisk\u001b[39m\u001b[38;5;124m'\u001b[39m,\u001b[38;5;124m'\u001b[39m\u001b[38;5;124moverallRisk\u001b[39m\u001b[38;5;124m'\u001b[39m, \u001b[38;5;124m'\u001b[39m\u001b[38;5;124mdividendRate\u001b[39m\u001b[38;5;124m'\u001b[39m,\u001b[38;5;124m'\u001b[39m\u001b[38;5;124mdividendYield\u001b[39m\u001b[38;5;124m'\u001b[39m,\u001b[38;5;124m'\u001b[39m\u001b[38;5;124mbeta\u001b[39m\u001b[38;5;124m'\u001b[39m, \u001b[38;5;124m'\u001b[39m\u001b[38;5;124mtotalCash\u001b[39m\u001b[38;5;124m'\u001b[39m,\n\u001b[1;32m      3\u001b[0m  \u001b[38;5;124m'\u001b[39m\u001b[38;5;124mtotalCashPerShare\u001b[39m\u001b[38;5;124m'\u001b[39m, \u001b[38;5;124m'\u001b[39m\u001b[38;5;124mebitda\u001b[39m\u001b[38;5;124m'\u001b[39m, \u001b[38;5;124m'\u001b[39m\u001b[38;5;124mtotalDebt\u001b[39m\u001b[38;5;124m'\u001b[39m, \u001b[38;5;124m'\u001b[39m\u001b[38;5;124mquickRatio\u001b[39m\u001b[38;5;124m'\u001b[39m, \u001b[38;5;124m'\u001b[39m\u001b[38;5;124mcurrentRatio\u001b[39m\u001b[38;5;124m'\u001b[39m, \u001b[38;5;124m'\u001b[39m\u001b[38;5;124mtotalRevenue\u001b[39m\u001b[38;5;124m'\u001b[39m, \u001b[38;5;124m'\u001b[39m\u001b[38;5;124mdebtToEquity\u001b[39m\u001b[38;5;124m'\u001b[39m, \u001b[38;5;124m'\u001b[39m\u001b[38;5;124mrevenuePerShare\u001b[39m\u001b[38;5;124m'\u001b[39m,\n\u001b[1;32m      4\u001b[0m  \u001b[38;5;124m'\u001b[39m\u001b[38;5;124mreturnOnAssets\u001b[39m\u001b[38;5;124m'\u001b[39m, \u001b[38;5;124m'\u001b[39m\u001b[38;5;124mreturnOnEquity\u001b[39m\u001b[38;5;124m'\u001b[39m,\n\u001b[1;32m      5\u001b[0m  \u001b[38;5;124m'\u001b[39m\u001b[38;5;124mfreeCashflow\u001b[39m\u001b[38;5;124m'\u001b[39m, \u001b[38;5;124m'\u001b[39m\u001b[38;5;124moperatingCashflow\u001b[39m\u001b[38;5;124m'\u001b[39m, \u001b[38;5;124m'\u001b[39m\u001b[38;5;124mearningsGrowth\u001b[39m\u001b[38;5;124m'\u001b[39m, \u001b[38;5;124m'\u001b[39m\u001b[38;5;124mrevenueGrowth\u001b[39m\u001b[38;5;124m'\u001b[39m, \u001b[38;5;124m'\u001b[39m\u001b[38;5;124mgrossMargins\u001b[39m\u001b[38;5;124m'\u001b[39m, \u001b[38;5;124m'\u001b[39m\u001b[38;5;124mebitdaMargins\u001b[39m\u001b[38;5;124m'\u001b[39m, \u001b[38;5;124m'\u001b[39m\u001b[38;5;124moperatingMargins\u001b[39m\u001b[38;5;124m'\u001b[39m]\n\u001b[1;32m      7\u001b[0m stock_info \u001b[38;5;241m=\u001b[39m {}\n\u001b[0;32m----> 8\u001b[0m \u001b[38;5;28;01mfor\u001b[39;00m ticket \u001b[38;5;129;01min\u001b[39;00m tqdm(\u001b[43mstock_list\u001b[49m):\n\u001b[1;32m      9\u001b[0m     info \u001b[38;5;241m=\u001b[39m yf\u001b[38;5;241m.\u001b[39mTicker(ticker)\n\u001b[1;32m     10\u001b[0m     stock_info[ticker] \u001b[38;5;241m=\u001b[39m {k:v \u001b[38;5;28;01mfor\u001b[39;00m k, v \u001b[38;5;129;01min\u001b[39;00m info\u001b[38;5;241m.\u001b[39minfo\u001b[38;5;241m.\u001b[39mitems() \u001b[38;5;28;01mif\u001b[39;00m k \u001b[38;5;129;01min\u001b[39;00m required_info}\n",
      "\u001b[0;31mNameError\u001b[0m: name 'stock_list' is not defined"
     ]
    }
   ],
   "source": [
    "required_info = ['city','state','zip','country',\"industry\", \"sector\", \"fullTimeEmployees\", \"auditRisk\", 'boardRisk','compensationRisk',\n",
    " 'shareHolderRightsRisk','overallRisk', 'dividendRate','dividendYield','beta', 'totalCash',\n",
    " 'totalCashPerShare', 'ebitda', 'totalDebt', 'quickRatio', 'currentRatio', 'totalRevenue', 'debtToEquity', 'revenuePerShare',\n",
    " 'returnOnAssets', 'returnOnEquity',\n",
    " 'freeCashflow', 'operatingCashflow', 'earningsGrowth', 'revenueGrowth', 'grossMargins', 'ebitdaMargins', 'operatingMargins']\n",
    "\n",
    "stock_info = {}\n",
    "for ticket in tqdm(stock_list):\n",
    "    info = yf.Ticker(ticker)\n",
    "    stock_info[ticker] = {k:v for k, v in info.info.items() if k in required_info}\n"
   ]
  },
  {
   "cell_type": "code",
   "execution_count": null,
   "id": "47c268f3-c142-4c02-9051-684a7d93a875",
   "metadata": {},
   "outputs": [],
   "source": [
    "df_snowflake=session.createDataFrame(\n",
    "        df.values.tolist(),\n",
    "        schema=df.columns.tolist())\n",
    "\n",
    "df_snowflake.write.mode(\"overwrite\").save_as_table(\"LOGS_ASSISTANT.SAMPLE_SCHEMA.HR_DATA\")"
   ]
  },
  {
   "cell_type": "code",
   "execution_count": null,
   "id": "29407e00-3665-4a91-82e6-d10edd9c9aac",
   "metadata": {},
   "outputs": [],
   "source": []
  }
 ],
 "metadata": {
  "kernelspec": {
   "display_name": "Python 3 (ipykernel)",
   "language": "python",
   "name": "python3"
  },
  "language_info": {
   "codemirror_mode": {
    "name": "ipython",
    "version": 3
   },
   "file_extension": ".py",
   "mimetype": "text/x-python",
   "name": "python",
   "nbconvert_exporter": "python",
   "pygments_lexer": "ipython3",
   "version": "3.9.19"
  }
 },
 "nbformat": 4,
 "nbformat_minor": 5
}
