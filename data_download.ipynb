{
 "cells": [
  {
   "cell_type": "code",
   "execution_count": 2,
   "id": "8c2cfa6f-88e5-4f82-bc8f-cdb994a9f774",
   "metadata": {
    "scrolled": true
   },
   "outputs": [],
   "source": [
    "# pip install yfinance"
   ]
  },
  {
   "cell_type": "code",
   "execution_count": 7,
   "id": "5fe57d6f-158e-4e05-8666-d7158525e00a",
   "metadata": {},
   "outputs": [],
   "source": [
    "import yfinance as yf\n",
    "from tqdm import tqdm\n",
    "import pandas as pd\n",
    "\n",
    "stocks = {\n",
    "  \"Technology\": [\n",
    "    {\"name\": \"Microsoft Corporation\", \"ticker\": \"MSFT\"},\n",
    "    {\"name\": \"Apple Inc.\", \"ticker\": \"AAPL\"},\n",
    "    {\"name\": \"Alphabet Inc.\", \"ticker\": \"GOOGL\"},\n",
    "    {\"name\": \"Intel Corporation\", \"ticker\": \"INTC\"},\n",
    "    {\"name\": \"Cisco Systems, Inc.\", \"ticker\": \"CSCO\"}\n",
    "  ],\n",
    "  \"Consumer Discretionary\": [\n",
    "    {\"name\": \"Amazon.com, Inc.\", \"ticker\": \"AMZN\"},\n",
    "    {\"name\": \"Tesla, Inc.\", \"ticker\": \"TSLA\"},\n",
    "    {\"name\": \"The Home Depot, Inc.\", \"ticker\": \"HD\"},\n",
    "    {\"name\": \"McDonald's Corporation\", \"ticker\": \"MCD\"},\n",
    "    {\"name\": \"Nike, Inc.\", \"ticker\": \"NKE\"}\n",
    "  ],\n",
    "  \"Healthcare\": [\n",
    "    {\"name\": \"Johnson & Johnson\", \"ticker\": \"JNJ\"},\n",
    "    {\"name\": \"Pfizer Inc.\", \"ticker\": \"PFE\"},\n",
    "    {\"name\": \"Merck & Co., Inc.\", \"ticker\": \"MRK\"},\n",
    "    {\"name\": \"Abbott Laboratories\", \"ticker\": \"ABT\"},\n",
    "    {\"name\": \"Amgen Inc.\", \"ticker\": \"AMGN\"}\n",
    "  ],\n",
    "  \"Financials\": [\n",
    "    {\"name\": \"JPMorgan Chase & Co.\", \"ticker\": \"JPM\"},\n",
    "    {\"name\": \"Bank of America Corporation\", \"ticker\": \"BAC\"},\n",
    "    {\"name\": \"Wells Fargo & Company\", \"ticker\": \"WFC\"},\n",
    "    {\"name\": \"Goldman Sachs Group, Inc.\", \"ticker\": \"GS\"},\n",
    "    {\"name\": \"Morgan Stanley\", \"ticker\": \"MS\"}\n",
    "  ],\n",
    "  \"Industrials\": [\n",
    "    {\"name\": \"Boeing Company\", \"ticker\": \"BA\"},\n",
    "    {\"name\": \"Caterpillar Inc.\", \"ticker\": \"CAT\"},\n",
    "    {\"name\": \"General Electric Company\", \"ticker\": \"GE\"},\n",
    "    {\"name\": \"3M Company\", \"ticker\": \"MMM\"},\n",
    "    {\"name\": \"Honeywell International Inc.\", \"ticker\": \"HON\"}\n",
    "  ],\n",
    "  \"Consumer Staples\": [\n",
    "    {\"name\": \"The Procter & Gamble Company\", \"ticker\": \"PG\"},\n",
    "    {\"name\": \"Coca-Cola Company\", \"ticker\": \"KO\"},\n",
    "    {\"name\": \"PepsiCo, Inc.\", \"ticker\": \"PEP\"},\n",
    "    {\"name\": \"Walmart Inc.\", \"ticker\": \"WMT\"},\n",
    "    {\"name\": \"Costco Wholesale Corporation\", \"ticker\": \"COST\"}\n",
    "  ]\n",
    "}\n"
   ]
  },
  {
   "cell_type": "code",
   "execution_count": 37,
   "id": "47b3e2f4-6b8e-4445-b083-33d62badf29f",
   "metadata": {
    "scrolled": true
   },
   "outputs": [
    {
     "name": "stderr",
     "output_type": "stream",
     "text": [
      "[*********************100%***********************]  1 of 1 completed\n",
      "[*********************100%***********************]  1 of 1 completed\n",
      "[*********************100%***********************]  1 of 1 completed\n",
      "[*********************100%***********************]  1 of 1 completed\n",
      "[*********************100%***********************]  1 of 1 completed\n",
      "[*********************100%***********************]  1 of 1 completed\n",
      "[*********************100%***********************]  1 of 1 completed\n"
     ]
    },
    {
     "name": "stdout",
     "output_type": "stream",
     "text": [
      "AAPL\n",
      "GOOGL\n",
      "INTC\n",
      "CSCO\n",
      "AMZN\n",
      "TSLA\n",
      "HD\n"
     ]
    },
    {
     "name": "stderr",
     "output_type": "stream",
     "text": [
      "[*********************100%***********************]  1 of 1 completed\n",
      "[*********************100%***********************]  1 of 1 completed\n",
      "[*********************100%***********************]  1 of 1 completed\n",
      "[*********************100%***********************]  1 of 1 completed\n",
      "[*********************100%***********************]  1 of 1 completed\n",
      "[*********************100%***********************]  1 of 1 completed\n"
     ]
    },
    {
     "name": "stdout",
     "output_type": "stream",
     "text": [
      "MCD\n",
      "NKE\n",
      "JNJ\n",
      "PFE\n",
      "MRK\n",
      "ABT\n"
     ]
    },
    {
     "name": "stderr",
     "output_type": "stream",
     "text": [
      "[*********************100%***********************]  1 of 1 completed\n",
      "[*********************100%***********************]  1 of 1 completed\n",
      "[*********************100%***********************]  1 of 1 completed\n",
      "[*********************100%***********************]  1 of 1 completed\n",
      "[*********************100%***********************]  1 of 1 completed\n",
      "[*********************100%***********************]  1 of 1 completed\n",
      "[*********************100%***********************]  1 of 1 completed\n",
      " 67%|██████▋   | 20/30 [00:00<00:00, 31.79it/s]"
     ]
    },
    {
     "name": "stdout",
     "output_type": "stream",
     "text": [
      "AMGN\n",
      "JPM\n",
      "BAC\n",
      "WFC\n",
      "GS\n",
      "MS\n",
      "BA\n"
     ]
    },
    {
     "name": "stderr",
     "output_type": "stream",
     "text": [
      "[*********************100%***********************]  1 of 1 completed\n",
      "[*********************100%***********************]  1 of 1 completed\n",
      "[*********************100%***********************]  1 of 1 completed\n",
      "[*********************100%***********************]  1 of 1 completed\n",
      "[*********************100%***********************]  1 of 1 completed\n",
      "[*********************100%***********************]  1 of 1 completed\n"
     ]
    },
    {
     "name": "stdout",
     "output_type": "stream",
     "text": [
      "CAT\n",
      "GE\n",
      "MMM\n",
      "HON\n",
      "PG\n",
      "KO\n"
     ]
    },
    {
     "name": "stderr",
     "output_type": "stream",
     "text": [
      "[*********************100%***********************]  1 of 1 completed\n",
      "[*********************100%***********************]  1 of 1 completed\n",
      "[*********************100%***********************]  1 of 1 completed\n",
      "[*********************100%***********************]  1 of 1 completed\n",
      "100%|██████████| 30/30 [00:01<00:00, 28.51it/s]"
     ]
    },
    {
     "name": "stdout",
     "output_type": "stream",
     "text": [
      "PEP\n",
      "WMT\n",
      "COST\n"
     ]
    },
    {
     "name": "stderr",
     "output_type": "stream",
     "text": [
      "\n"
     ]
    }
   ],
   "source": [
    "stocks_list = [st[\"ticker\"]  for key,val in stocks.items() for st in val]\n",
    "counter = 1\n",
    "for ticker in tqdm(stocks_list):\n",
    "    if counter == 1:\n",
    "        data = yf.download(ticker, start=\"2010-01-01\", end=\"2024-10-03\")\n",
    "        data[\"stock\"] = [ticker]*len(data)\n",
    "    else:\n",
    "        print(ticker)\n",
    "        df = yf.download(ticker, start=\"2010-01-01\", end=\"2024-10-03\")\n",
    "        df[\"stock\"] = [ticker]*len(df)\n",
    "        data = data._append(df, ignore_index=True)\n",
    "        del df\n",
    "    counter += 1\n",
    "        "
   ]
  },
  {
   "cell_type": "code",
   "execution_count": 39,
   "id": "cb4363db-e984-4f86-bd9f-63d797396d30",
   "metadata": {},
   "outputs": [],
   "source": [
    "data = data[[\"stock\",\"Close\",\"Adj Close\"]]"
   ]
  },
  {
   "cell_type": "code",
   "execution_count": 40,
   "id": "fe53a105-4218-47df-8ef9-e2bf076d0157",
   "metadata": {},
   "outputs": [
    {
     "data": {
      "text/html": [
       "<div>\n",
       "<style scoped>\n",
       "    .dataframe tbody tr th:only-of-type {\n",
       "        vertical-align: middle;\n",
       "    }\n",
       "\n",
       "    .dataframe tbody tr th {\n",
       "        vertical-align: top;\n",
       "    }\n",
       "\n",
       "    .dataframe thead th {\n",
       "        text-align: right;\n",
       "    }\n",
       "</style>\n",
       "<table border=\"1\" class=\"dataframe\">\n",
       "  <thead>\n",
       "    <tr style=\"text-align: right;\">\n",
       "      <th></th>\n",
       "      <th>stock</th>\n",
       "      <th>Close</th>\n",
       "      <th>Adj Close</th>\n",
       "    </tr>\n",
       "  </thead>\n",
       "  <tbody>\n",
       "    <tr>\n",
       "      <th>0</th>\n",
       "      <td>MSFT</td>\n",
       "      <td>30.950001</td>\n",
       "      <td>23.347326</td>\n",
       "    </tr>\n",
       "    <tr>\n",
       "      <th>1</th>\n",
       "      <td>MSFT</td>\n",
       "      <td>30.959999</td>\n",
       "      <td>23.354862</td>\n",
       "    </tr>\n",
       "    <tr>\n",
       "      <th>2</th>\n",
       "      <td>MSFT</td>\n",
       "      <td>30.770000</td>\n",
       "      <td>23.211536</td>\n",
       "    </tr>\n",
       "    <tr>\n",
       "      <th>3</th>\n",
       "      <td>MSFT</td>\n",
       "      <td>30.450001</td>\n",
       "      <td>22.970146</td>\n",
       "    </tr>\n",
       "    <tr>\n",
       "      <th>4</th>\n",
       "      <td>MSFT</td>\n",
       "      <td>30.660000</td>\n",
       "      <td>23.128555</td>\n",
       "    </tr>\n",
       "    <tr>\n",
       "      <th>...</th>\n",
       "      <td>...</td>\n",
       "      <td>...</td>\n",
       "      <td>...</td>\n",
       "    </tr>\n",
       "    <tr>\n",
       "      <th>111233</th>\n",
       "      <td>COST</td>\n",
       "      <td>901.440002</td>\n",
       "      <td>901.440002</td>\n",
       "    </tr>\n",
       "    <tr>\n",
       "      <th>111234</th>\n",
       "      <td>COST</td>\n",
       "      <td>885.619995</td>\n",
       "      <td>885.619995</td>\n",
       "    </tr>\n",
       "    <tr>\n",
       "      <th>111235</th>\n",
       "      <td>COST</td>\n",
       "      <td>886.520020</td>\n",
       "      <td>886.520020</td>\n",
       "    </tr>\n",
       "    <tr>\n",
       "      <th>111236</th>\n",
       "      <td>COST</td>\n",
       "      <td>877.380005</td>\n",
       "      <td>877.380005</td>\n",
       "    </tr>\n",
       "    <tr>\n",
       "      <th>111237</th>\n",
       "      <td>COST</td>\n",
       "      <td>878.530029</td>\n",
       "      <td>878.530029</td>\n",
       "    </tr>\n",
       "  </tbody>\n",
       "</table>\n",
       "<p>111238 rows × 3 columns</p>\n",
       "</div>"
      ],
      "text/plain": [
       "       stock       Close   Adj Close\n",
       "0       MSFT   30.950001   23.347326\n",
       "1       MSFT   30.959999   23.354862\n",
       "2       MSFT   30.770000   23.211536\n",
       "3       MSFT   30.450001   22.970146\n",
       "4       MSFT   30.660000   23.128555\n",
       "...      ...         ...         ...\n",
       "111233  COST  901.440002  901.440002\n",
       "111234  COST  885.619995  885.619995\n",
       "111235  COST  886.520020  886.520020\n",
       "111236  COST  877.380005  877.380005\n",
       "111237  COST  878.530029  878.530029\n",
       "\n",
       "[111238 rows x 3 columns]"
      ]
     },
     "execution_count": 40,
     "metadata": {},
     "output_type": "execute_result"
    }
   ],
   "source": [
    "data"
   ]
  },
  {
   "cell_type": "code",
   "execution_count": 45,
   "id": "2bcadc37-0a61-4550-8c91-8596f467756e",
   "metadata": {},
   "outputs": [
    {
     "name": "stdout",
     "output_type": "stream",
     "text": [
      "{'address1': 'One Apple Park Way', 'city': 'Cupertino', 'state': 'CA', 'zip': '95014', 'country': 'United States', 'phone': '408 996 1010', 'website': 'https://www.apple.com', 'industry': 'Consumer Electronics', 'industryKey': 'consumer-electronics', 'industryDisp': 'Consumer Electronics', 'sector': 'Technology', 'sectorKey': 'technology', 'sectorDisp': 'Technology', 'longBusinessSummary': 'Apple Inc. designs, manufactures, and markets smartphones, personal computers, tablets, wearables, and accessories worldwide. The company offers iPhone, a line of smartphones; Mac, a line of personal computers; iPad, a line of multi-purpose tablets; and wearables, home, and accessories comprising AirPods, Apple TV, Apple Watch, Beats products, and HomePod. It also provides AppleCare support and cloud services; and operates various platforms, including the App Store that allow customers to discover and download applications and digital content, such as books, music, video, games, and podcasts. In addition, the company offers various services, such as Apple Arcade, a game subscription service; Apple Fitness+, a personalized fitness service; Apple Music, which offers users a curated listening experience with on-demand radio stations; Apple News+, a subscription news and magazine service; Apple TV+, which offers exclusive original content; Apple Card, a co-branded credit card; and Apple Pay, a cashless payment service, as well as licenses its intellectual property. The company serves consumers, and small and mid-sized businesses; and the education, enterprise, and government markets. It distributes third-party applications for its products through the App Store. The company also sells its products through its retail and online stores, and direct sales force; and third-party cellular network carriers, wholesalers, retailers, and resellers. Apple Inc. was founded in 1976 and is headquartered in Cupertino, California.', 'fullTimeEmployees': 161000, 'companyOfficers': [{'maxAge': 1, 'name': 'Mr. Timothy D. Cook', 'age': 62, 'title': 'CEO & Director', 'yearBorn': 1961, 'fiscalYear': 2023, 'totalPay': 16239562, 'exercisedValue': 0, 'unexercisedValue': 0}, {'maxAge': 1, 'name': 'Mr. Luca  Maestri', 'age': 60, 'title': 'CFO & Senior VP', 'yearBorn': 1963, 'fiscalYear': 2023, 'totalPay': 4612242, 'exercisedValue': 0, 'unexercisedValue': 0}, {'maxAge': 1, 'name': 'Mr. Jeffrey E. Williams', 'age': 59, 'title': 'Chief Operating Officer', 'yearBorn': 1964, 'fiscalYear': 2023, 'totalPay': 4637585, 'exercisedValue': 0, 'unexercisedValue': 0}, {'maxAge': 1, 'name': 'Ms. Katherine L. Adams', 'age': 59, 'title': 'Senior VP, General Counsel & Secretary', 'yearBorn': 1964, 'fiscalYear': 2023, 'totalPay': 4618064, 'exercisedValue': 0, 'unexercisedValue': 0}, {'maxAge': 1, 'name': \"Ms. Deirdre  O'Brien\", 'age': 56, 'title': 'Senior Vice President of Retail', 'yearBorn': 1967, 'fiscalYear': 2023, 'totalPay': 4613369, 'exercisedValue': 0, 'unexercisedValue': 0}, {'maxAge': 1, 'name': 'Mr. Chris  Kondo', 'title': 'Senior Director of Corporate Accounting', 'fiscalYear': 2023, 'exercisedValue': 0, 'unexercisedValue': 0}, {'maxAge': 1, 'name': 'Mr. James  Wilson', 'title': 'Chief Technology Officer', 'fiscalYear': 2023, 'exercisedValue': 0, 'unexercisedValue': 0}, {'maxAge': 1, 'name': 'Suhasini  Chandramouli', 'title': 'Director of Investor Relations', 'fiscalYear': 2023, 'exercisedValue': 0, 'unexercisedValue': 0}, {'maxAge': 1, 'name': 'Mr. Greg  Joswiak', 'title': 'Senior Vice President of Worldwide Marketing', 'fiscalYear': 2023, 'exercisedValue': 0, 'unexercisedValue': 0}, {'maxAge': 1, 'name': 'Mr. Adrian  Perica', 'age': 49, 'title': 'Head of Corporate Development', 'yearBorn': 1974, 'fiscalYear': 2023, 'exercisedValue': 0, 'unexercisedValue': 0}], 'auditRisk': 6, 'boardRisk': 1, 'compensationRisk': 2, 'shareHolderRightsRisk': 1, 'overallRisk': 1, 'governanceEpochDate': 1727740800, 'compensationAsOfEpochDate': 1703980800, 'irWebsite': 'http://investor.apple.com/', 'maxAge': 86400, 'priceHint': 2, 'previousClose': 226.21, 'open': 225.89, 'dayLow': 223.03, 'dayHigh': 227.37, 'regularMarketPreviousClose': 226.21, 'regularMarketOpen': 225.89, 'regularMarketDayLow': 223.03, 'regularMarketDayHigh': 227.37, 'dividendRate': 1.0, 'dividendYield': 0.0044, 'exDividendDate': 1723420800, 'payoutRatio': 0.1476, 'fiveYearAvgDividendYield': 0.64, 'beta': 1.239, 'trailingPE': 34.465046, 'forwardPE': 30.358768, 'volume': 32694489, 'regularMarketVolume': 32694489, 'averageVolume': 54733363, 'averageVolume10days': 74679030, 'averageDailyVolume10Day': 74679030, 'bid': 226.73, 'ask': 226.8, 'bidSize': 100, 'askSize': 200, 'marketCap': 3447985799168, 'fiftyTwoWeekLow': 164.08, 'fiftyTwoWeekHigh': 237.23, 'priceToSalesTrailing12Months': 8.941802, 'fiftyDayAverage': 222.346, 'twoHundredDayAverage': 197.6571, 'trailingAnnualDividendRate': 0.97, 'trailingAnnualDividendYield': 0.004288051, 'currency': 'USD', 'enterpriseValue': 3487497191424, 'profitMargins': 0.26441, 'floatShares': 15179810381, 'sharesOutstanding': 15204100096, 'sharesShort': 130539888, 'sharesShortPriorMonth': 121598771, 'sharesShortPreviousMonthDate': 1723680000, 'dateShortInterest': 1726185600, 'sharesPercentSharesOut': 0.0086, 'heldPercentInsiders': 0.02703, 'heldPercentInstitutions': 0.6082, 'shortRatio': 3.03, 'shortPercentOfFloat': 0.0086, 'impliedSharesOutstanding': 15250799616, 'bookValue': 4.382, 'priceToBook': 51.752625, 'lastFiscalYearEnd': 1696032000, 'nextFiscalYearEnd': 1727654400, 'mostRecentQuarter': 1719619200, 'earningsQuarterlyGrowth': 0.079, 'netIncomeToCommon': 101956001792, 'trailingEps': 6.58, 'forwardEps': 7.47, 'pegRatio': 3.06, 'lastSplitFactor': '4:1', 'lastSplitDate': 1598832000, 'enterpriseToRevenue': 9.044, 'enterpriseToEbitda': 26.464, '52WeekChange': 0.29655254, 'SandP52WeekChange': 0.34083736, 'lastDividendValue': 0.25, 'lastDividendDate': 1723420800, 'exchange': 'NMS', 'quoteType': 'EQUITY', 'symbol': 'AAPL', 'underlyingSymbol': 'AAPL', 'shortName': 'Apple Inc.', 'longName': 'Apple Inc.', 'firstTradeDateEpochUtc': 345479400, 'timeZoneFullName': 'America/New_York', 'timeZoneShortName': 'EDT', 'uuid': '8b10e4ae-9eeb-3684-921a-9ab27e4d87aa', 'messageBoardId': 'finmb_24937', 'gmtOffSetMilliseconds': -14400000, 'currentPrice': 226.78, 'targetHighPrice': 300.0, 'targetLowPrice': 183.86, 'targetMeanPrice': 240.58, 'targetMedianPrice': 243.0, 'recommendationMean': 2.0, 'recommendationKey': 'buy', 'numberOfAnalystOpinions': 40, 'totalCash': 61801000960, 'totalCashPerShare': 4.065, 'ebitda': 131781001216, 'totalDebt': 101304000512, 'quickRatio': 0.798, 'currentRatio': 0.953, 'totalRevenue': 385603010560, 'debtToEquity': 151.862, 'revenuePerShare': 24.957, 'returnOnAssets': 0.22612, 'returnOnEquity': 1.60583, 'freeCashflow': 86158123008, 'operatingCashflow': 113040998400, 'earningsGrowth': 0.111, 'revenueGrowth': 0.049, 'grossMargins': 0.45962003, 'ebitdaMargins': 0.34175, 'operatingMargins': 0.29556, 'financialCurrency': 'USD', 'trailingPegRatio': 2.1766}\n"
     ]
    }
   ],
   "source": [
    "apple = yf.Ticker(\"AAPL\")\n",
    "print(apple.info)"
   ]
  }
 ],
 "metadata": {
  "kernelspec": {
   "display_name": "Python 3 (ipykernel)",
   "language": "python",
   "name": "python3"
  },
  "language_info": {
   "codemirror_mode": {
    "name": "ipython",
    "version": 3
   },
   "file_extension": ".py",
   "mimetype": "text/x-python",
   "name": "python",
   "nbconvert_exporter": "python",
   "pygments_lexer": "ipython3",
   "version": "3.9.19"
  }
 },
 "nbformat": 4,
 "nbformat_minor": 5
}
